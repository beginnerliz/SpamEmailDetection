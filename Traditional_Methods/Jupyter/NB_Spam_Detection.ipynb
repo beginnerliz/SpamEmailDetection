{
 "cells": [
  {
   "cell_type": "code",
   "execution_count": 34,
   "metadata": {},
   "outputs": [],
   "source": [
    "import numpy as np\n",
    "import pandas as pd\n",
    "from tqdm import tqdm\n",
    "import pickle as pkl\n",
    "import re\n",
    "from collections import Counter\n",
    "from sklearn.naive_bayes import MultinomialNB\n",
    "from typing import List, Tuple, Any\n",
    "import matplotlib.pyplot as plt\n",
    "\n",
    "from sklearn.metrics import accuracy_score, f1_score, precision_score, recall_score\n",
    "from sklearn.metrics import confusion_matrix"
   ]
  },
  {
   "cell_type": "code",
   "execution_count": 37,
   "metadata": {},
   "outputs": [],
   "source": [
    "class SpamDetectorTraditional():\n",
    "    def __init__(self, word_indices_path: str) -> None:\n",
    "        with open(word_indices_path, \"rb\") as f:\n",
    "            word_indices = pkl.load(f)\n",
    "        self.feature_dim = len(word_indices)\n",
    "\n",
    "        self.word_to_index = {word: i for i, word in enumerate(word_indices)}\n",
    "        self.index_to_word = {i: word for i, word in enumerate(word_indices)}\n",
    "        \n",
    "    def toFeature(self, email: str) -> np.array:\n",
    "        feature = np.zeros(self.feature_dim)\n",
    "        content = str(email).lower()\n",
    "        content = re.sub(r'\\W', ' ', content)\n",
    "\n",
    "        words = content.split()\n",
    "        \n",
    "        word_counter = Counter(words)\n",
    "        for word, count in word_counter.items():\n",
    "            if word in self.word_to_index:\n",
    "                index = self.word_to_index[word]\n",
    "                feature[index] = count\n",
    "\n",
    "        return feature\n",
    "    \n",
    "    def preprocess(self, email_dataframe: pd.DataFrame) -> np.ndarray:\n",
    "        features = np.zeros((len(email_dataframe), self.feature_dim))\n",
    "        labels = np.array(email_dataframe[\"label\"])\n",
    "\n",
    "        for i in tqdm(range(len(email_dataframe))):\n",
    "            email = email_dataframe.iloc[i][\"body\"]\n",
    "            features[i] = self.toFeature(email)\n",
    "\n",
    "        return features, labels\n",
    "    \n",
    "    def train(self, email_dataframe: pd.DataFrame, model_class: Any, model_save_path: str, **model_params) -> None:\n",
    "        print(\"Training...\")\n",
    "        features, labels = self.preprocess(email_dataframe)\n",
    "        model = model_class(**model_params)\n",
    "        model.fit(features, labels)\n",
    "        with open(model_save_path, \"wb\") as f:\n",
    "            pkl.dump(model, f)\n",
    "\n",
    "        return model\n",
    "    \n",
    "    def eval(self, email_dataframe: pd.DataFrame, model: Any) -> np.ndarray:\n",
    "        print(\"Evaluating...\")\n",
    "        features, labels = self.preprocess(email_dataframe)\n",
    "        \n",
    "        # Output accuracy, precision, recall, F1\n",
    "        pred_labels = model.predict(features)\n",
    "        accuracy = accuracy_score(labels, pred_labels)\n",
    "        precision = precision_score(labels, pred_labels)\n",
    "        recall = recall_score(labels, pred_labels)\n",
    "        f1 = f1_score(labels, pred_labels)\n",
    "        confusion = confusion_matrix(labels, pred_labels)\n",
    "\n",
    "        print(f\"Accuracy: {accuracy}\")\n",
    "        print(f\"Precision: {precision}\")\n",
    "        print(f\"Recall: {recall}\")\n",
    "        print(f\"F1: {f1}\")\n",
    "        \n",
    "        # Plot confusion matrix with numbers and axis labels\n",
    "        plt.imshow(confusion, cmap='binary', interpolation='None')\n",
    "        plt.xlabel(\"Predicted\")\n",
    "        plt.ylabel(\"Actual\")\n",
    "        plt.xticks([0, 1], [\"ham\", \"spam\"])\n",
    "        plt.yticks([0, 1], [\"ham\", \"spam\"])\n",
    "        for i in range(2):\n",
    "            for j in range(2):\n",
    "                plt.text(j, i, confusion[i, j], ha='center', va='center', color='red')\n",
    "        plt.show()"
   ]
  },
  {
   "cell_type": "code",
   "execution_count": 53,
   "metadata": {},
   "outputs": [],
   "source": [
    "def mergeEmailDatasets(csv_paths: List[str], body_column_names: List[str], label_column_names: List[str]) -> pd.DataFrame:\n",
    "    data_frames = []\n",
    "    for i in range(len(csv_paths)):\n",
    "        dataframe = pd.read_csv(\"SpamAssasin.csv\")[[body_column_names[i], label_column_names[i]]]\n",
    "        dataframe.rename(columns={body_column_names[i]: \"body\", label_column_names[i]: \"label\"})\n",
    "        dataframe[\"label\"] = dataframe[\"label\"].apply(lambda x: int(x in [\"spam\", \"1\", 1]))\n",
    "        data_frames.append(dataframe)\n",
    "    if len(data_frames) == 1:\n",
    "        return data_frames[0]\n",
    "    return pd.concat(data_frames)"
   ]
  },
  {
   "cell_type": "code",
   "execution_count": 42,
   "metadata": {},
   "outputs": [
    {
     "name": "stdout",
     "output_type": "stream",
     "text": [
      "Training...\n"
     ]
    },
    {
     "name": "stderr",
     "output_type": "stream",
     "text": [
      "100%|██████████| 5809/5809 [00:02<00:00, 2904.05it/s]\n"
     ]
    },
    {
     "name": "stdout",
     "output_type": "stream",
     "text": [
      "Evaluating...\n"
     ]
    },
    {
     "name": "stderr",
     "output_type": "stream",
     "text": [
      "100%|██████████| 1565/1565 [00:00<00:00, 2288.91it/s]"
     ]
    },
    {
     "name": "stdout",
     "output_type": "stream",
     "text": [
      "Accuracy: 0.6939297124600639\n",
      "Precision: 1.0\n",
      "Recall: 0.6939297124600639\n",
      "F1: 0.8193134666163712\n"
     ]
    },
    {
     "name": "stderr",
     "output_type": "stream",
     "text": [
      "\n"
     ]
    },
    {
     "data": {
      "image/png": "[encoded data removed]",
      "text/plain": [
       "<Figure size 640x480 with 1 Axes>"
      ]
     },
     "metadata": {},
     "output_type": "display_data"
    }
   ],
   "source": [
    "trainer = SpamDetectorTraditional(\"word_indices.pkl\")\n",
    "train_set = pd.read_csv(\"SpamAssasin.csv\")[[\"body\", \"label\"]]\n",
    "model = trainer.train(train_set, MultinomialNB, \"NaiveBayes.pkl\")\n",
    "\n",
    "test_set = pd.read_csv(\"Nazario.csv\")[[\"body\", \"label\"]]\n",
    "trainer.eval(test_set, model)"
   ]
  }
 ],
 "metadata": {
  "kernelspec": {
   "display_name": "TF",
   "language": "python",
   "name": "python3"
  },
  "language_info": {
   "codemirror_mode": {
    "name": "ipython",
    "version": 3
   },
   "file_extension": ".py",
   "mimetype": "text/x-python",
   "name": "python",
   "nbconvert_exporter": "python",
   "pygments_lexer": "ipython3",
   "version": "3.9.0"
  }
 },
 "nbformat": 4,
 "nbformat_minor": 2
}
