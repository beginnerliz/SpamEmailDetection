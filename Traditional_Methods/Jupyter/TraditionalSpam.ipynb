{
 "cells": [
  {
   "cell_type": "code",
   "execution_count": 3,
   "metadata": {},
   "outputs": [],
   "source": [
    "import numpy as np\n",
    "import pandas as pd\n",
    "from tqdm import tqdm\n",
    "import pickle as pkl\n",
    "import re\n",
    "from collections import Counter"
   ]
  },
  {
   "cell_type": "markdown",
   "metadata": {},
   "source": [
    "## Define Parameters"
   ]
  },
  {
   "cell_type": "code",
   "execution_count": 5,
   "metadata": {},
   "outputs": [],
   "source": [
    "csv_path = \"Nazario.csv\"\n",
    "feature_dim = 10000"
   ]
  },
  {
   "cell_type": "markdown",
   "metadata": {},
   "source": [
    "## Read Input"
   ]
  },
  {
   "cell_type": "code",
   "execution_count": 3,
   "metadata": {},
   "outputs": [],
   "source": [
    "df = pd.read_csv(csv_path)[[\"body\", \"label\"]]\n",
    "df[\"body\"] = df[\"body\"].apply(lambda x: x.lower())"
   ]
  },
  {
   "cell_type": "markdown",
   "metadata": {},
   "source": [
    "## Create Word Index"
   ]
  },
  {
   "cell_type": "code",
   "execution_count": 32,
   "metadata": {},
   "outputs": [
    {
     "name": "stderr",
     "output_type": "stream",
     "text": [
      "100%|██████████| 1565/1565 [00:00<00:00, 1944.86it/s]\n"
     ]
    }
   ],
   "source": [
    "# loop over df\n",
    "word_storage = dict()\n",
    "for i in tqdm(range(len(df))):\n",
    "    content = df.iloc[i][\"body\"]\n",
    "    label = df.iloc[i][\"label\"]\n",
    "    # Replace all non-alphanumeric characters by space\n",
    "    content = re.sub(r'\\W', ' ', content)\n",
    "    words = content.split()\n",
    "    for word in words:\n",
    "        if word not in word_storage:\n",
    "            word_storage[word] = 0\n",
    "        word_storage[word] += 1\n",
    "\n",
    "# select top 10000 words with highest frequency\n",
    "word_freq = [(k, v) for k, v in word_storage.items()]\n",
    "word_freq = sorted(word_freq, key=lambda x: x[1], reverse=True)\n",
    "word_freq = word_freq[:feature_dim]\n",
    "\n",
    "word_indices = [x[0] for x in word_freq]"
   ]
  },
  {
   "cell_type": "markdown",
   "metadata": {},
   "source": [
    "## Save Word Index"
   ]
  },
  {
   "cell_type": "code",
   "execution_count": 39,
   "metadata": {},
   "outputs": [],
   "source": [
    "with open(\"word_indices.pkl\", \"wb\") as f:\n",
    "    pkl.dump(word_indices, f)"
   ]
  }
 ],
 "metadata": {
  "kernelspec": {
   "display_name": "Py311",
   "language": "python",
   "name": "python3"
  },
  "language_info": {
   "codemirror_mode": {
    "name": "ipython",
    "version": 3
   },
   "file_extension": ".py",
   "mimetype": "text/x-python",
   "name": "python",
   "nbconvert_exporter": "python",
   "pygments_lexer": "ipython3",
   "version": "3.9.18"
  }
 },
 "nbformat": 4,
 "nbformat_minor": 2
}
